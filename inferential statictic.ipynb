{
 "cells": [
  {
   "cell_type": "markdown",
   "id": "d1374bb3",
   "metadata": {},
   "source": [
    "# perform two-tailed t-test"
   ]
  },
  {
   "cell_type": "code",
   "execution_count": 15,
   "id": "bda3fdc4",
   "metadata": {},
   "outputs": [],
   "source": [
    "import numpy as np"
   ]
  },
  {
   "cell_type": "code",
   "execution_count": null,
   "id": "208d4d53",
   "metadata": {},
   "outputs": [],
   "source": [
    "pip uninstall scipy"
   ]
  },
  {
   "cell_type": "markdown",
   "id": "0e5b35da",
   "metadata": {},
   "source": [
    "# generate sample data:height of 30 student(in inches)"
   ]
  },
  {
   "cell_type": "code",
   "execution_count": 6,
   "id": "96631e12",
   "metadata": {},
   "outputs": [],
   "source": [
    "np.random.seed()\n",
    "heights=np.random.normal(loc=65,scale=3,size=30)"
   ]
  },
  {
   "cell_type": "code",
   "execution_count": 7,
   "id": "7cfff1e6",
   "metadata": {},
   "outputs": [
    {
     "data": {
      "text/plain": [
       "array([63.55838245, 58.95964648, 63.57564486, 65.32837183, 62.74777673,\n",
       "       67.05713992, 62.31858906, 59.21931887, 63.73829951, 63.97330408,\n",
       "       68.1077655 , 62.43770927, 65.1229821 , 63.86486987, 62.26937267,\n",
       "       67.64475414, 65.24063272, 61.94601962, 69.26577259, 63.64097409,\n",
       "       65.09457804, 67.35621298, 64.84217708, 66.08391204, 64.31811078,\n",
       "       64.06701892, 62.33020019, 65.8830116 , 64.90355429, 65.08530287])"
      ]
     },
     "execution_count": 7,
     "metadata": {},
     "output_type": "execute_result"
    }
   ],
   "source": [
    "heights"
   ]
  },
  {
   "cell_type": "markdown",
   "id": "477ae224",
   "metadata": {},
   "source": [
    "# point estimation:calculate the sample mean"
   ]
  },
  {
   "cell_type": "code",
   "execution_count": 8,
   "id": "2430b1a5",
   "metadata": {},
   "outputs": [
    {
     "name": "stdout",
     "output_type": "stream",
     "text": [
      "Sample Mean(pint Estimation): 64.33271350485536\n"
     ]
    }
   ],
   "source": [
    "sample_mean=np.mean(heights)\n",
    "print(\"Sample Mean(pint Estimation):\",sample_mean)"
   ]
  },
  {
   "cell_type": "code",
   "execution_count": 10,
   "id": "456d99ee",
   "metadata": {},
   "outputs": [
    {
     "ename": "ImportError",
     "evalue": "DLL load failed while importing _ckdtree: %1 is not a valid Win32 application.",
     "output_type": "error",
     "traceback": [
      "\u001b[1;31m---------------------------------------------------------------------------\u001b[0m",
      "\u001b[1;31mImportError\u001b[0m                               Traceback (most recent call last)",
      "Cell \u001b[1;32mIn[10], line 2\u001b[0m\n\u001b[0;32m      1\u001b[0m \u001b[38;5;28;01mimport\u001b[39;00m \u001b[38;5;21;01mnumpy\u001b[39;00m \u001b[38;5;28;01mas\u001b[39;00m \u001b[38;5;21;01mnp\u001b[39;00m\n\u001b[1;32m----> 2\u001b[0m \u001b[38;5;28;01mimport\u001b[39;00m \u001b[38;5;21;01mscipy\u001b[39;00m\u001b[38;5;21;01m.\u001b[39;00m\u001b[38;5;21;01mstats\u001b[39;00m \u001b[38;5;28;01mas\u001b[39;00m \u001b[38;5;21;01mstats\u001b[39;00m\n",
      "File \u001b[1;32mC:\\ProgramData\\anaconda3\\envs\\puthumalar\\Lib\\site-packages\\scipy\\stats\\__init__.py:608\u001b[0m\n\u001b[0;32m      1\u001b[0m \u001b[38;5;124;03m\"\"\"\u001b[39;00m\n\u001b[0;32m      2\u001b[0m \u001b[38;5;124;03m.. _statsrefmanual:\u001b[39;00m\n\u001b[0;32m      3\u001b[0m \n\u001b[1;32m   (...)\u001b[0m\n\u001b[0;32m    603\u001b[0m \n\u001b[0;32m    604\u001b[0m \u001b[38;5;124;03m\"\"\"\u001b[39;00m\n\u001b[0;32m    606\u001b[0m \u001b[38;5;28;01mfrom\u001b[39;00m \u001b[38;5;21;01m.\u001b[39;00m\u001b[38;5;21;01m_warnings_errors\u001b[39;00m \u001b[38;5;28;01mimport\u001b[39;00m (ConstantInputWarning, NearConstantInputWarning,\n\u001b[0;32m    607\u001b[0m                                DegenerateDataWarning, FitError)\n\u001b[1;32m--> 608\u001b[0m \u001b[38;5;28;01mfrom\u001b[39;00m \u001b[38;5;21;01m.\u001b[39;00m\u001b[38;5;21;01m_stats_py\u001b[39;00m \u001b[38;5;28;01mimport\u001b[39;00m \u001b[38;5;241m*\u001b[39m\n\u001b[0;32m    609\u001b[0m \u001b[38;5;28;01mfrom\u001b[39;00m \u001b[38;5;21;01m.\u001b[39;00m\u001b[38;5;21;01m_variation\u001b[39;00m \u001b[38;5;28;01mimport\u001b[39;00m variation\n\u001b[0;32m    610\u001b[0m \u001b[38;5;28;01mfrom\u001b[39;00m \u001b[38;5;21;01m.\u001b[39;00m\u001b[38;5;21;01mdistributions\u001b[39;00m \u001b[38;5;28;01mimport\u001b[39;00m \u001b[38;5;241m*\u001b[39m\n",
      "File \u001b[1;32mC:\\ProgramData\\anaconda3\\envs\\puthumalar\\Lib\\site-packages\\scipy\\stats\\_stats_py.py:39\u001b[0m\n\u001b[0;32m     36\u001b[0m \u001b[38;5;28;01mfrom\u001b[39;00m \u001b[38;5;21;01mnumpy\u001b[39;00m\u001b[38;5;21;01m.\u001b[39;00m\u001b[38;5;21;01mlib\u001b[39;00m \u001b[38;5;28;01mimport\u001b[39;00m NumpyVersion\n\u001b[0;32m     37\u001b[0m \u001b[38;5;28;01mfrom\u001b[39;00m \u001b[38;5;21;01mnumpy\u001b[39;00m\u001b[38;5;21;01m.\u001b[39;00m\u001b[38;5;21;01mtesting\u001b[39;00m \u001b[38;5;28;01mimport\u001b[39;00m suppress_warnings\n\u001b[1;32m---> 39\u001b[0m \u001b[38;5;28;01mfrom\u001b[39;00m \u001b[38;5;21;01mscipy\u001b[39;00m\u001b[38;5;21;01m.\u001b[39;00m\u001b[38;5;21;01mspatial\u001b[39;00m\u001b[38;5;21;01m.\u001b[39;00m\u001b[38;5;21;01mdistance\u001b[39;00m \u001b[38;5;28;01mimport\u001b[39;00m cdist\n\u001b[0;32m     40\u001b[0m \u001b[38;5;28;01mfrom\u001b[39;00m \u001b[38;5;21;01mscipy\u001b[39;00m\u001b[38;5;21;01m.\u001b[39;00m\u001b[38;5;21;01mndimage\u001b[39;00m \u001b[38;5;28;01mimport\u001b[39;00m _measurements\n\u001b[0;32m     41\u001b[0m \u001b[38;5;28;01mfrom\u001b[39;00m \u001b[38;5;21;01mscipy\u001b[39;00m\u001b[38;5;21;01m.\u001b[39;00m\u001b[38;5;21;01m_lib\u001b[39;00m\u001b[38;5;21;01m.\u001b[39;00m\u001b[38;5;21;01m_util\u001b[39;00m \u001b[38;5;28;01mimport\u001b[39;00m (check_random_state, MapWrapper, _get_nan,\n\u001b[0;32m     42\u001b[0m                               rng_integers, _rename_parameter, _contains_nan)\n",
      "File \u001b[1;32mC:\\ProgramData\\anaconda3\\envs\\puthumalar\\Lib\\site-packages\\scipy\\spatial\\__init__.py:110\u001b[0m\n\u001b[0;32m      1\u001b[0m \u001b[38;5;124;03m\"\"\"\u001b[39;00m\n\u001b[0;32m      2\u001b[0m \u001b[38;5;124;03m=============================================================\u001b[39;00m\n\u001b[0;32m      3\u001b[0m \u001b[38;5;124;03mSpatial algorithms and data structures (:mod:`scipy.spatial`)\u001b[39;00m\n\u001b[1;32m   (...)\u001b[0m\n\u001b[0;32m    107\u001b[0m \u001b[38;5;124;03m   QhullError\u001b[39;00m\n\u001b[0;32m    108\u001b[0m \u001b[38;5;124;03m\"\"\"\u001b[39;00m\n\u001b[1;32m--> 110\u001b[0m \u001b[38;5;28;01mfrom\u001b[39;00m \u001b[38;5;21;01m.\u001b[39;00m\u001b[38;5;21;01m_kdtree\u001b[39;00m \u001b[38;5;28;01mimport\u001b[39;00m \u001b[38;5;241m*\u001b[39m\n\u001b[0;32m    111\u001b[0m \u001b[38;5;28;01mfrom\u001b[39;00m \u001b[38;5;21;01m.\u001b[39;00m\u001b[38;5;21;01m_ckdtree\u001b[39;00m \u001b[38;5;28;01mimport\u001b[39;00m \u001b[38;5;241m*\u001b[39m\n\u001b[0;32m    112\u001b[0m \u001b[38;5;28;01mfrom\u001b[39;00m \u001b[38;5;21;01m.\u001b[39;00m\u001b[38;5;21;01m_qhull\u001b[39;00m \u001b[38;5;28;01mimport\u001b[39;00m \u001b[38;5;241m*\u001b[39m\n",
      "File \u001b[1;32mC:\\ProgramData\\anaconda3\\envs\\puthumalar\\Lib\\site-packages\\scipy\\spatial\\_kdtree.py:4\u001b[0m\n\u001b[0;32m      1\u001b[0m \u001b[38;5;66;03m# Copyright Anne M. Archibald 2008\u001b[39;00m\n\u001b[0;32m      2\u001b[0m \u001b[38;5;66;03m# Released under the scipy license\u001b[39;00m\n\u001b[0;32m      3\u001b[0m \u001b[38;5;28;01mimport\u001b[39;00m \u001b[38;5;21;01mnumpy\u001b[39;00m \u001b[38;5;28;01mas\u001b[39;00m \u001b[38;5;21;01mnp\u001b[39;00m\n\u001b[1;32m----> 4\u001b[0m \u001b[38;5;28;01mfrom\u001b[39;00m \u001b[38;5;21;01m.\u001b[39;00m\u001b[38;5;21;01m_ckdtree\u001b[39;00m \u001b[38;5;28;01mimport\u001b[39;00m cKDTree, cKDTreeNode\n\u001b[0;32m      6\u001b[0m __all__ \u001b[38;5;241m=\u001b[39m [\u001b[38;5;124m'\u001b[39m\u001b[38;5;124mminkowski_distance_p\u001b[39m\u001b[38;5;124m'\u001b[39m, \u001b[38;5;124m'\u001b[39m\u001b[38;5;124mminkowski_distance\u001b[39m\u001b[38;5;124m'\u001b[39m,\n\u001b[0;32m      7\u001b[0m            \u001b[38;5;124m'\u001b[39m\u001b[38;5;124mdistance_matrix\u001b[39m\u001b[38;5;124m'\u001b[39m,\n\u001b[0;32m      8\u001b[0m            \u001b[38;5;124m'\u001b[39m\u001b[38;5;124mRectangle\u001b[39m\u001b[38;5;124m'\u001b[39m, \u001b[38;5;124m'\u001b[39m\u001b[38;5;124mKDTree\u001b[39m\u001b[38;5;124m'\u001b[39m]\n\u001b[0;32m     11\u001b[0m \u001b[38;5;28;01mdef\u001b[39;00m \u001b[38;5;21mminkowski_distance_p\u001b[39m(x, y, p\u001b[38;5;241m=\u001b[39m\u001b[38;5;241m2\u001b[39m):\n",
      "\u001b[1;31mImportError\u001b[0m: DLL load failed while importing _ckdtree: %1 is not a valid Win32 application."
     ]
    }
   ],
   "source": [
    "import numpy as np\n",
    "import scipy.stats as stats "
   ]
  },
  {
   "cell_type": "markdown",
   "id": "d80d1634",
   "metadata": {},
   "source": [
    "# generate sample data:height of student(in inches)"
   ]
  },
  {
   "cell_type": "code",
   "execution_count": null,
   "id": "47d47acb",
   "metadata": {},
   "outputs": [],
   "source": [
    "np.random.seeb()\n",
    "heights=np.random.normal(loc=65,scale=3,size=30)"
   ]
  },
  {
   "cell_type": "code",
   "execution_count": null,
   "id": "e2b70ebc",
   "metadata": {},
   "outputs": [],
   "source": [
    "sample_mean=np.mean(heights)\n",
    "sample_std=np.std(hights,ddof=1)"
   ]
  },
  {
   "cell_type": "markdown",
   "id": "6dc7ee76",
   "metadata": {},
   "source": [
    "# set desires confidence level"
   ]
  },
  {
   "cell_type": "code",
   "execution_count": null,
   "id": "a0dc56af",
   "metadata": {},
   "outputs": [],
   "source": [
    "confidence_level=0.95"
   ]
  },
  {
   "cell_type": "markdown",
   "id": "8985b077",
   "metadata": {},
   "source": [
    "# calculate the margin of error"
   ]
  },
  {
   "cell_type": "code",
   "execution_count": null,
   "id": "37c2388a",
   "metadata": {},
   "outputs": [],
   "source": [
    "lower_bound=sample_mean-margin_of_error\n",
    "upper_bound=sample_mean-margin_of_error"
   ]
  },
  {
   "cell_type": "markdown",
   "id": "880eb247",
   "metadata": {},
   "source": [
    "# print the coinfidence interval"
   ]
  },
  {
   "cell_type": "code",
   "execution_count": null,
   "id": "46d12e0a",
   "metadata": {},
   "outputs": [],
   "source": [
    "print(f\"Confidence Interval({confidence_level*100}%):[{lower_bound},{upper_bound}]\")"
   ]
  },
  {
   "cell_type": "markdown",
   "id": "1c9a9773",
   "metadata": {},
   "source": [
    "# generate sample data for two groups"
   ]
  },
  {
   "cell_type": "code",
   "execution_count": null,
   "id": "cf5b8181",
   "metadata": {},
   "outputs": [],
   "source": [
    "np.random.seed(42)\n",
    "group1_scores=np.random.normal(loc=70,scale=5,size=30)\n",
    "group2_scores=np.random.normal(loc=70,scale=5,size=30)"
   ]
  },
  {
   "cell_type": "markdown",
   "id": "2ed850a2",
   "metadata": {},
   "source": [
    "# performces independent t_test"
   ]
  },
  {
   "cell_type": "code",
   "execution_count": null,
   "id": "fd04ffaa",
   "metadata": {},
   "outputs": [],
   "source": [
    "t_statistic,p_value=stats.ttest_ind(group1_scores,group2_scores)"
   ]
  },
  {
   "cell_type": "code",
   "execution_count": null,
   "id": "8317e2b3",
   "metadata": {},
   "outputs": [],
   "source": [
    "alpha=0.05"
   ]
  },
  {
   "cell_type": "code",
   "execution_count": null,
   "id": "5834952c",
   "metadata": {},
   "outputs": [],
   "source": [
    "print(\"T-test Result:\")\n",
    "print(\"T-statistic:\",t_statistic)\n",
    "print(\"p-value:\",p_value)"
   ]
  },
  {
   "cell_type": "markdown",
   "id": "186da5a9",
   "metadata": {},
   "source": [
    "# check if the p_values is less tahn alpha setermine significance"
   ]
  },
  {
   "cell_type": "code",
   "execution_count": null,
   "id": "ab68ebbe",
   "metadata": {},
   "outputs": [],
   "source": [
    "if p_value<alpha:\n",
    "    print(\"Reject the null hypothesis.there is a significance difference between the mean of the 2 groups\")\n",
    "else:\n",
    "        print(\"fail to reject the null hypothesis.there is no significance difference between the means of the two groups\")\n"
   ]
  },
  {
   "cell_type": "markdown",
   "id": "69a10fca",
   "metadata": {},
   "source": [
    "# perform two_tailed t-test"
   ]
  },
  {
   "cell_type": "code",
   "execution_count": null,
   "id": "fbafc95d",
   "metadata": {},
   "outputs": [],
   "source": [
    "t_statistic_1tail_right,p_value_2tail=stats.ttest_ind(group1_scores,group2_scores)"
   ]
  },
  {
   "cell_type": "markdown",
   "id": "1350d6c6",
   "metadata": {},
   "source": [
    "# perform one-taild t-test(right to left)"
   ]
  },
  {
   "cell_type": "code",
   "execution_count": null,
   "id": "5e53f878",
   "metadata": {},
   "outputs": [],
   "source": [
    "t_statistic_1tail_right,p_value_tail_right=stats.ttest_ind(group1_scores,group2_scores,alternative='greater')"
   ]
  },
  {
   "cell_type": "markdown",
   "id": "eb45f0b2",
   "metadata": {},
   "source": [
    "# print onetailed(left-tailed)test result"
   ]
  },
  {
   "cell_type": "code",
   "execution_count": null,
   "id": "0789aff9",
   "metadata": {},
   "outputs": [],
   "source": [
    "print(\"two-tailed Test\")\n",
    "print(\"T-statistic:\",t_statistic_2tail)\n",
    "print(\"p-value:\",p_value_2tail)"
   ]
  },
  {
   "cell_type": "code",
   "execution_count": null,
   "id": "c97bb643",
   "metadata": {},
   "outputs": [],
   "source": [
    "print(\"\\none-tailed Test(left-tailed):\")\n",
    "print(\"T-statistic:\",t_statistic_1tail_left)\n",
    "print(\"p-value:\",p_value_1tail_left)"
   ]
  }
 ],
 "metadata": {
  "kernelspec": {
   "display_name": "Python 3 (ipykernel)",
   "language": "python",
   "name": "python3"
  },
  "language_info": {
   "codemirror_mode": {
    "name": "ipython",
    "version": 3
   },
   "file_extension": ".py",
   "mimetype": "text/x-python",
   "name": "python",
   "nbconvert_exporter": "python",
   "pygments_lexer": "ipython3",
   "version": "3.11.5"
  }
 },
 "nbformat": 4,
 "nbformat_minor": 5
}
