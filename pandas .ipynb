{
 "cells": [
  {
   "cell_type": "code",
   "execution_count": 1,
   "id": "cc88e112",
   "metadata": {},
   "outputs": [],
   "source": [
    "import pandas as pd"
   ]
  },
  {
   "cell_type": "code",
   "execution_count": 2,
   "id": "e9f042e8",
   "metadata": {},
   "outputs": [
    {
     "data": {
      "text/plain": [
       "'2.2.2'"
      ]
     },
     "execution_count": 2,
     "metadata": {},
     "output_type": "execute_result"
    }
   ],
   "source": [
    "pd.__version__"
   ]
  },
  {
   "cell_type": "markdown",
   "id": "15ef8741",
   "metadata": {},
   "source": [
    "# Series"
   ]
  },
  {
   "cell_type": "code",
   "execution_count": 3,
   "id": "5aeb4333",
   "metadata": {},
   "outputs": [],
   "source": [
    "Name = pd.Series([\"Balajee\", \"Thanigai\", \"Dhivagar\", \"Zameer\"], index = [1,2,3,4])"
   ]
  },
  {
   "cell_type": "code",
   "execution_count": 4,
   "id": "31e3913f",
   "metadata": {},
   "outputs": [
    {
     "data": {
      "text/plain": [
       "1     Balajee\n",
       "2    Thanigai\n",
       "3    Dhivagar\n",
       "4      Zameer\n",
       "dtype: object"
      ]
     },
     "execution_count": 4,
     "metadata": {},
     "output_type": "execute_result"
    }
   ],
   "source": [
    "Name"
   ]
  },
  {
   "cell_type": "code",
   "execution_count": 5,
   "id": "e43cb81d",
   "metadata": {},
   "outputs": [],
   "source": [
    "Age = pd.Series([20, 19, 18, 21], index = [1,2,3,4])"
   ]
  },
  {
   "cell_type": "code",
   "execution_count": 6,
   "id": "535ac383",
   "metadata": {},
   "outputs": [
    {
     "data": {
      "text/plain": [
       "1    20\n",
       "2    19\n",
       "3    18\n",
       "4    21\n",
       "dtype: int64"
      ]
     },
     "execution_count": 6,
     "metadata": {},
     "output_type": "execute_result"
    }
   ],
   "source": [
    "Age"
   ]
  },
  {
   "cell_type": "markdown",
   "id": "3e55734c",
   "metadata": {},
   "source": [
    "# Data Frame"
   ]
  },
  {
   "cell_type": "code",
   "execution_count": 7,
   "id": "c64c26dc",
   "metadata": {},
   "outputs": [],
   "source": [
    "df = pd.DataFrame(Name, columns=[\"Name\"])"
   ]
  },
  {
   "cell_type": "code",
   "execution_count": 8,
   "id": "58a05b0f",
   "metadata": {},
   "outputs": [
    {
     "data": {
      "text/html": [
       "<div>\n",
       "<style scoped>\n",
       "    .dataframe tbody tr th:only-of-type {\n",
       "        vertical-align: middle;\n",
       "    }\n",
       "\n",
       "    .dataframe tbody tr th {\n",
       "        vertical-align: top;\n",
       "    }\n",
       "\n",
       "    .dataframe thead th {\n",
       "        text-align: right;\n",
       "    }\n",
       "</style>\n",
       "<table border=\"1\" class=\"dataframe\">\n",
       "  <thead>\n",
       "    <tr style=\"text-align: right;\">\n",
       "      <th></th>\n",
       "      <th>Name</th>\n",
       "    </tr>\n",
       "  </thead>\n",
       "  <tbody>\n",
       "    <tr>\n",
       "      <th>1</th>\n",
       "      <td>Balajee</td>\n",
       "    </tr>\n",
       "    <tr>\n",
       "      <th>2</th>\n",
       "      <td>Thanigai</td>\n",
       "    </tr>\n",
       "    <tr>\n",
       "      <th>3</th>\n",
       "      <td>Dhivagar</td>\n",
       "    </tr>\n",
       "    <tr>\n",
       "      <th>4</th>\n",
       "      <td>Zameer</td>\n",
       "    </tr>\n",
       "  </tbody>\n",
       "</table>\n",
       "</div>"
      ],
      "text/plain": [
       "       Name\n",
       "1   Balajee\n",
       "2  Thanigai\n",
       "3  Dhivagar\n",
       "4    Zameer"
      ]
     },
     "execution_count": 8,
     "metadata": {},
     "output_type": "execute_result"
    }
   ],
   "source": [
    "df"
   ]
  },
  {
   "cell_type": "code",
   "execution_count": 9,
   "id": "0e1bfdfd",
   "metadata": {},
   "outputs": [],
   "source": [
    "df[\"Age\"]=Age"
   ]
  },
  {
   "cell_type": "code",
   "execution_count": 10,
   "id": "23b2c6d1",
   "metadata": {},
   "outputs": [
    {
     "data": {
      "text/html": [
       "<div>\n",
       "<style scoped>\n",
       "    .dataframe tbody tr th:only-of-type {\n",
       "        vertical-align: middle;\n",
       "    }\n",
       "\n",
       "    .dataframe tbody tr th {\n",
       "        vertical-align: top;\n",
       "    }\n",
       "\n",
       "    .dataframe thead th {\n",
       "        text-align: right;\n",
       "    }\n",
       "</style>\n",
       "<table border=\"1\" class=\"dataframe\">\n",
       "  <thead>\n",
       "    <tr style=\"text-align: right;\">\n",
       "      <th></th>\n",
       "      <th>Name</th>\n",
       "      <th>Age</th>\n",
       "    </tr>\n",
       "  </thead>\n",
       "  <tbody>\n",
       "    <tr>\n",
       "      <th>1</th>\n",
       "      <td>Balajee</td>\n",
       "      <td>20</td>\n",
       "    </tr>\n",
       "    <tr>\n",
       "      <th>2</th>\n",
       "      <td>Thanigai</td>\n",
       "      <td>19</td>\n",
       "    </tr>\n",
       "    <tr>\n",
       "      <th>3</th>\n",
       "      <td>Dhivagar</td>\n",
       "      <td>18</td>\n",
       "    </tr>\n",
       "    <tr>\n",
       "      <th>4</th>\n",
       "      <td>Zameer</td>\n",
       "      <td>21</td>\n",
       "    </tr>\n",
       "  </tbody>\n",
       "</table>\n",
       "</div>"
      ],
      "text/plain": [
       "       Name  Age\n",
       "1   Balajee   20\n",
       "2  Thanigai   19\n",
       "3  Dhivagar   18\n",
       "4    Zameer   21"
      ]
     },
     "execution_count": 10,
     "metadata": {},
     "output_type": "execute_result"
    }
   ],
   "source": [
    "df"
   ]
  },
  {
   "cell_type": "code",
   "execution_count": 12,
   "id": "1a52c931",
   "metadata": {},
   "outputs": [],
   "source": [
    "Candidate = {\"CGPA\":{1:\"7.75\", 2:\"8.25\", 3:\"8.50\", 4:\"8.75\"}, \"Specialization\":{1:\"YES\", 2:\"YES\", 3:\"NO\", 4:\"NO\"}}"
   ]
  },
  {
   "cell_type": "code",
   "execution_count": 13,
   "id": "813488d6",
   "metadata": {},
   "outputs": [
    {
     "data": {
      "text/plain": [
       "{'CGPA': {1: '7.75', 2: '8.25', 3: '8.50', 4: '8.75'},\n",
       " 'Specialization': {1: 'YES', 2: 'YES', 3: 'NO', 4: 'NO'}}"
      ]
     },
     "execution_count": 13,
     "metadata": {},
     "output_type": "execute_result"
    }
   ],
   "source": [
    "Candidate"
   ]
  },
  {
   "cell_type": "code",
   "execution_count": 20,
   "id": "569ea1fb",
   "metadata": {},
   "outputs": [],
   "source": [
    "df = pd.DataFrame(Candidate, columns = [\"CGPA\",\"Specialization\"])"
   ]
  },
  {
   "cell_type": "code",
   "execution_count": 21,
   "id": "8a669f8d",
   "metadata": {},
   "outputs": [
    {
     "data": {
      "text/html": [
       "<div>\n",
       "<style scoped>\n",
       "    .dataframe tbody tr th:only-of-type {\n",
       "        vertical-align: middle;\n",
       "    }\n",
       "\n",
       "    .dataframe tbody tr th {\n",
       "        vertical-align: top;\n",
       "    }\n",
       "\n",
       "    .dataframe thead th {\n",
       "        text-align: right;\n",
       "    }\n",
       "</style>\n",
       "<table border=\"1\" class=\"dataframe\">\n",
       "  <thead>\n",
       "    <tr style=\"text-align: right;\">\n",
       "      <th></th>\n",
       "      <th>CGPA</th>\n",
       "      <th>Specialization</th>\n",
       "    </tr>\n",
       "  </thead>\n",
       "  <tbody>\n",
       "    <tr>\n",
       "      <th>1</th>\n",
       "      <td>7.75</td>\n",
       "      <td>YES</td>\n",
       "    </tr>\n",
       "    <tr>\n",
       "      <th>2</th>\n",
       "      <td>8.25</td>\n",
       "      <td>YES</td>\n",
       "    </tr>\n",
       "    <tr>\n",
       "      <th>3</th>\n",
       "      <td>8.50</td>\n",
       "      <td>NO</td>\n",
       "    </tr>\n",
       "    <tr>\n",
       "      <th>4</th>\n",
       "      <td>8.75</td>\n",
       "      <td>NO</td>\n",
       "    </tr>\n",
       "  </tbody>\n",
       "</table>\n",
       "</div>"
      ],
      "text/plain": [
       "   CGPA Specialization\n",
       "1  7.75            YES\n",
       "2  8.25            YES\n",
       "3  8.50             NO\n",
       "4  8.75             NO"
      ]
     },
     "execution_count": 21,
     "metadata": {},
     "output_type": "execute_result"
    }
   ],
   "source": [
    "df"
   ]
  },
  {
   "cell_type": "code",
   "execution_count": 26,
   "id": "64e5552f",
   "metadata": {},
   "outputs": [],
   "source": [
    "    Candidate = {\"Name\":{1:\"Balajee\", 2:\"Thanigai\", 3:\"Dhivagar\", 4:\"Zameer\", 5:\"Eshwar\"},\"CGPA\":{1:\"7.75\", 2:\"8.25\", 3:\"8.50\", 4:\"8.75\", 5:\"9.50\"},\"REG.NO\":{1:\"122012012787\", 2:\"122012012887\", 3:\"122012012999\", 4:\"122012012888\", 5:\"122012012889\"},\"yearofstudy\":{1:\"3\", 2:\"3\", 3:\"3\", 4:\"3\", 5:\"3\"} ,\"Specialization\":{1:\"YES\", 2:\"YES\", 3:\"NO\", 4:\"NO\", 5:\"NO\"}}"
   ]
  },
  {
   "cell_type": "code",
   "execution_count": 28,
   "id": "c2f24a1f",
   "metadata": {},
   "outputs": [],
   "source": [
    "df = pd.DataFrame(Candidate, columns = [\"Name\",\"Specialization\",\"REG.NO\",\"yearofstudy\",\"CGPA\"])"
   ]
  },
  {
   "cell_type": "code",
   "execution_count": 29,
   "id": "4faac1db",
   "metadata": {},
   "outputs": [
    {
     "data": {
      "text/html": [
       "<div>\n",
       "<style scoped>\n",
       "    .dataframe tbody tr th:only-of-type {\n",
       "        vertical-align: middle;\n",
       "    }\n",
       "\n",
       "    .dataframe tbody tr th {\n",
       "        vertical-align: top;\n",
       "    }\n",
       "\n",
       "    .dataframe thead th {\n",
       "        text-align: right;\n",
       "    }\n",
       "</style>\n",
       "<table border=\"1\" class=\"dataframe\">\n",
       "  <thead>\n",
       "    <tr style=\"text-align: right;\">\n",
       "      <th></th>\n",
       "      <th>Name</th>\n",
       "      <th>Specialization</th>\n",
       "      <th>REG.NO</th>\n",
       "      <th>yearofstudy</th>\n",
       "      <th>CGPA</th>\n",
       "    </tr>\n",
       "  </thead>\n",
       "  <tbody>\n",
       "    <tr>\n",
       "      <th>1</th>\n",
       "      <td>Balajee</td>\n",
       "      <td>YES</td>\n",
       "      <td>122012012787</td>\n",
       "      <td>3</td>\n",
       "      <td>7.75</td>\n",
       "    </tr>\n",
       "    <tr>\n",
       "      <th>2</th>\n",
       "      <td>Thanigai</td>\n",
       "      <td>YES</td>\n",
       "      <td>122012012887</td>\n",
       "      <td>3</td>\n",
       "      <td>8.25</td>\n",
       "    </tr>\n",
       "    <tr>\n",
       "      <th>3</th>\n",
       "      <td>Dhivagar</td>\n",
       "      <td>NO</td>\n",
       "      <td>122012012999</td>\n",
       "      <td>3</td>\n",
       "      <td>8.50</td>\n",
       "    </tr>\n",
       "    <tr>\n",
       "      <th>4</th>\n",
       "      <td>Zameer</td>\n",
       "      <td>NO</td>\n",
       "      <td>122012012888</td>\n",
       "      <td>3</td>\n",
       "      <td>8.75</td>\n",
       "    </tr>\n",
       "    <tr>\n",
       "      <th>5</th>\n",
       "      <td>Eshwar</td>\n",
       "      <td>NO</td>\n",
       "      <td>122012012889</td>\n",
       "      <td>3</td>\n",
       "      <td>9.50</td>\n",
       "    </tr>\n",
       "  </tbody>\n",
       "</table>\n",
       "</div>"
      ],
      "text/plain": [
       "       Name Specialization        REG.NO yearofstudy  CGPA\n",
       "1   Balajee            YES  122012012787           3  7.75\n",
       "2  Thanigai            YES  122012012887           3  8.25\n",
       "3  Dhivagar             NO  122012012999           3  8.50\n",
       "4    Zameer             NO  122012012888           3  8.75\n",
       "5    Eshwar             NO  122012012889           3  9.50"
      ]
     },
     "execution_count": 29,
     "metadata": {},
     "output_type": "execute_result"
    }
   ],
   "source": [
    "df"
   ]
  },
  {
   "cell_type": "code",
   "execution_count": 37,
   "id": "e4b9208d",
   "metadata": {},
   "outputs": [],
   "source": [
    "x = df.drop(columns = [\"Specialization\"])"
   ]
  },
  {
   "cell_type": "code",
   "execution_count": 39,
   "id": "e57847bc",
   "metadata": {},
   "outputs": [],
   "source": [
    "y = df[\"Specialization\"]"
   ]
  },
  {
   "cell_type": "code",
   "execution_count": 40,
   "id": "707c6af9",
   "metadata": {},
   "outputs": [
    {
     "data": {
      "text/html": [
       "<div>\n",
       "<style scoped>\n",
       "    .dataframe tbody tr th:only-of-type {\n",
       "        vertical-align: middle;\n",
       "    }\n",
       "\n",
       "    .dataframe tbody tr th {\n",
       "        vertical-align: top;\n",
       "    }\n",
       "\n",
       "    .dataframe thead th {\n",
       "        text-align: right;\n",
       "    }\n",
       "</style>\n",
       "<table border=\"1\" class=\"dataframe\">\n",
       "  <thead>\n",
       "    <tr style=\"text-align: right;\">\n",
       "      <th></th>\n",
       "      <th>Name</th>\n",
       "      <th>REG.NO</th>\n",
       "      <th>yearofstudy</th>\n",
       "      <th>CGPA</th>\n",
       "    </tr>\n",
       "  </thead>\n",
       "  <tbody>\n",
       "    <tr>\n",
       "      <th>1</th>\n",
       "      <td>Balajee</td>\n",
       "      <td>122012012787</td>\n",
       "      <td>3</td>\n",
       "      <td>7.75</td>\n",
       "    </tr>\n",
       "    <tr>\n",
       "      <th>2</th>\n",
       "      <td>Thanigai</td>\n",
       "      <td>122012012887</td>\n",
       "      <td>3</td>\n",
       "      <td>8.25</td>\n",
       "    </tr>\n",
       "    <tr>\n",
       "      <th>3</th>\n",
       "      <td>Dhivagar</td>\n",
       "      <td>122012012999</td>\n",
       "      <td>3</td>\n",
       "      <td>8.50</td>\n",
       "    </tr>\n",
       "    <tr>\n",
       "      <th>4</th>\n",
       "      <td>Zameer</td>\n",
       "      <td>122012012888</td>\n",
       "      <td>3</td>\n",
       "      <td>8.75</td>\n",
       "    </tr>\n",
       "    <tr>\n",
       "      <th>5</th>\n",
       "      <td>Eshwar</td>\n",
       "      <td>122012012889</td>\n",
       "      <td>3</td>\n",
       "      <td>9.50</td>\n",
       "    </tr>\n",
       "  </tbody>\n",
       "</table>\n",
       "</div>"
      ],
      "text/plain": [
       "       Name        REG.NO yearofstudy  CGPA\n",
       "1   Balajee  122012012787           3  7.75\n",
       "2  Thanigai  122012012887           3  8.25\n",
       "3  Dhivagar  122012012999           3  8.50\n",
       "4    Zameer  122012012888           3  8.75\n",
       "5    Eshwar  122012012889           3  9.50"
      ]
     },
     "execution_count": 40,
     "metadata": {},
     "output_type": "execute_result"
    }
   ],
   "source": [
    "x"
   ]
  },
  {
   "cell_type": "code",
   "execution_count": 41,
   "id": "188c08b2",
   "metadata": {},
   "outputs": [
    {
     "data": {
      "text/plain": [
       "1    YES\n",
       "2    YES\n",
       "3     NO\n",
       "4     NO\n",
       "5     NO\n",
       "Name: Specialization, dtype: object"
      ]
     },
     "execution_count": 41,
     "metadata": {},
     "output_type": "execute_result"
    }
   ],
   "source": [
    "y"
   ]
  },
  {
   "cell_type": "code",
   "execution_count": null,
   "id": "d707f6dd",
   "metadata": {},
   "outputs": [],
   "source": []
  }
 ],
 "metadata": {
  "kernelspec": {
   "display_name": "Python 3 (ipykernel)",
   "language": "python",
   "name": "python3"
  },
  "language_info": {
   "codemirror_mode": {
    "name": "ipython",
    "version": 3
   },
   "file_extension": ".py",
   "mimetype": "text/x-python",
   "name": "python",
   "nbconvert_exporter": "python",
   "pygments_lexer": "ipython3",
   "version": "3.11.4"
  }
 },
 "nbformat": 4,
 "nbformat_minor": 5
}
