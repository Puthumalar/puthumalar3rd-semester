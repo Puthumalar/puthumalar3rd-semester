{
 "cells": [
  {
   "cell_type": "code",
   "execution_count": 5,
   "id": "61e85f82",
   "metadata": {},
   "outputs": [],
   "source": [
    "import numpy as np\n",
    "import scipy.stats as stats"
   ]
  },
  {
   "cell_type": "markdown",
   "id": "e73209de",
   "metadata": {},
   "source": [
    "# Generate sample data : height of 30 students (in inches)"
   ]
  },
  {
   "cell_type": "code",
   "execution_count": 2,
   "id": "f60fdf49",
   "metadata": {},
   "outputs": [],
   "source": [
    "np.random.seed(40)\n",
    "heights = np.random.normal(loc = 65, scale = 3, size = 30)"
   ]
  },
  {
   "cell_type": "code",
   "execution_count": 3,
   "id": "1518ed6b",
   "metadata": {},
   "outputs": [
    {
     "data": {
      "text/plain": [
       "array([63.17735691, 64.62159076, 62.94618092, 67.78614425, 59.4667969 ,\n",
       "       63.59899273, 71.87747103, 66.46643016, 67.13080097, 68.16660333,\n",
       "       65.1622193 , 65.77386025, 66.76484495, 67.65573272, 61.94897893,\n",
       "       64.59892091, 63.6854435 , 66.48033048, 64.40297264, 61.17504918,\n",
       "       65.88048246, 65.32685094, 65.09518036, 68.81791959, 68.2143437 ,\n",
       "       66.24745404, 69.65203769, 64.06586325, 60.86228028, 69.11422636])"
      ]
     },
     "execution_count": 3,
     "metadata": {},
     "output_type": "execute_result"
    }
   ],
   "source": [
    "heights"
   ]
  },
  {
   "cell_type": "markdown",
   "id": "b5731dec",
   "metadata": {},
   "source": [
    "# Point estimation : Calculate the sample mean"
   ]
  },
  {
   "cell_type": "code",
   "execution_count": 4,
   "id": "7609654d",
   "metadata": {},
   "outputs": [
    {
     "name": "stdout",
     "output_type": "stream",
     "text": [
      "Sample Mean (Point Estimate) :  65.53877864874389\n"
     ]
    }
   ],
   "source": [
    "sample_mean = np.mean(heights)\n",
    "print(\"Sample Mean (Point Estimate) : \", sample_mean)"
   ]
  },
  {
   "cell_type": "markdown",
   "id": "15ddecf6",
   "metadata": {},
   "source": [
    "# Generate sample data : heights of 30 students (in inches)"
   ]
  },
  {
   "cell_type": "code",
   "execution_count": 7,
   "id": "bf659bd5",
   "metadata": {},
   "outputs": [],
   "source": [
    "np.random.seed(42)\n",
    "height = np.random.normal(loc = 65, scale = 3, size = 30)"
   ]
  },
  {
   "cell_type": "code",
   "execution_count": 8,
   "id": "4fc14bc7",
   "metadata": {},
   "outputs": [
    {
     "data": {
      "text/plain": [
       "array([66.49014246, 64.5852071 , 66.94306561, 69.56908957, 64.29753988,\n",
       "       64.29758913, 69.73763845, 67.30230419, 63.59157684, 66.62768013,\n",
       "       63.60974692, 63.60281074, 65.72588681, 59.26015927, 59.8252465 ,\n",
       "       63.31313741, 61.96150664, 65.942742  , 62.27592777, 60.7630889 ,\n",
       "       69.39694631, 64.3226711 , 65.20258461, 60.72575544, 63.36685183,\n",
       "       65.33276777, 61.54701927, 66.12709406, 63.19808393, 64.12491875])"
      ]
     },
     "execution_count": 8,
     "metadata": {},
     "output_type": "execute_result"
    }
   ],
   "source": [
    "height"
   ]
  },
  {
   "cell_type": "markdown",
   "id": "71873d90",
   "metadata": {},
   "source": [
    "# Caculate the sample mean and standard deviation"
   ]
  },
  {
   "cell_type": "code",
   "execution_count": 9,
   "id": "a76ae22a",
   "metadata": {},
   "outputs": [],
   "source": [
    "sample_mean = np.mean(height)"
   ]
  },
  {
   "cell_type": "code",
   "execution_count": 10,
   "id": "50dd7473",
   "metadata": {},
   "outputs": [],
   "source": [
    "sample_std = np.std(height, ddof = 1)"
   ]
  },
  {
   "cell_type": "markdown",
   "id": "ee106079",
   "metadata": {},
   "source": [
    "# Set the desired confidence level"
   ]
  },
  {
   "cell_type": "code",
   "execution_count": 11,
   "id": "a5a82772",
   "metadata": {},
   "outputs": [],
   "source": [
    "confidence_level = 0.95"
   ]
  },
  {
   "cell_type": "markdown",
   "id": "7eb28b0b",
   "metadata": {},
   "source": [
    "# Calculate the margin of error"
   ]
  },
  {
   "cell_type": "code",
   "execution_count": 12,
   "id": "7209f429",
   "metadata": {},
   "outputs": [],
   "source": [
    "margin_of_error = stats.t.ppf((1 + confidence_level) / 2, len(height) - 1) * (sample_std / np.sqrt(len(height)))"
   ]
  },
  {
   "cell_type": "markdown",
   "id": "d5f058a2",
   "metadata": {},
   "source": [
    "# Calculate the Confidence Interval"
   ]
  },
  {
   "cell_type": "code",
   "execution_count": 13,
   "id": "e2713bd4",
   "metadata": {},
   "outputs": [],
   "source": [
    "lower_bound = sample_mean - margin_of_error\n",
    "upper_bound = sample_mean + margin_of_error"
   ]
  },
  {
   "cell_type": "code",
   "execution_count": 14,
   "id": "d1784ddf",
   "metadata": {},
   "outputs": [
    {
     "data": {
      "text/plain": [
       "63.427355543105506"
      ]
     },
     "execution_count": 14,
     "metadata": {},
     "output_type": "execute_result"
    }
   ],
   "source": [
    "lower_bound"
   ]
  },
  {
   "cell_type": "code",
   "execution_count": 15,
   "id": "f32805ee",
   "metadata": {},
   "outputs": [
    {
     "data": {
      "text/plain": [
       "65.44376308178826"
      ]
     },
     "execution_count": 15,
     "metadata": {},
     "output_type": "execute_result"
    }
   ],
   "source": [
    "upper_bound"
   ]
  },
  {
   "cell_type": "markdown",
   "id": "25a3076a",
   "metadata": {},
   "source": [
    "# Print confidence interval"
   ]
  },
  {
   "cell_type": "code",
   "execution_count": 16,
   "id": "9cb5d54c",
   "metadata": {},
   "outputs": [
    {
     "name": "stdout",
     "output_type": "stream",
     "text": [
      "Confidence Interval (95.0%) : [63.427355543105506, 65.44376308178826]\n"
     ]
    }
   ],
   "source": [
    "print(f\"Confidence Interval ({confidence_level * 100}%) : [{lower_bound}, {upper_bound}]\")"
   ]
  },
  {
   "cell_type": "markdown",
   "id": "31d16781",
   "metadata": {},
   "source": [
    "# Hypothesis T Test"
   ]
  },
  {
   "cell_type": "markdown",
   "id": "30373c91",
   "metadata": {},
   "source": [
    "# After the generating sample data for two groups performing independent       t-test"
   ]
  },
  {
   "cell_type": "code",
   "execution_count": 19,
   "id": "a9c90bca",
   "metadata": {},
   "outputs": [],
   "source": [
    "np.random.seed(42)\n",
    "group1_scores = np.random.normal(loc = 70, scale = 5, size = 30)\n",
    "group2_scores = np.random.normal(loc = 75, scale = 5, size = 30)"
   ]
  },
  {
   "cell_type": "code",
   "execution_count": 20,
   "id": "6d3dcaf6",
   "metadata": {},
   "outputs": [],
   "source": [
    "t_statistic, p_value = stats.ttest_ind(group1_scores, group2_scores)"
   ]
  },
  {
   "cell_type": "markdown",
   "id": "d6856a4a",
   "metadata": {},
   "source": [
    "# Set the Significant Level"
   ]
  },
  {
   "cell_type": "code",
   "execution_count": 21,
   "id": "75972738",
   "metadata": {},
   "outputs": [],
   "source": [
    "alpha = 0.05"
   ]
  },
  {
   "cell_type": "code",
   "execution_count": 23,
   "id": "1434c2a4",
   "metadata": {},
   "outputs": [
    {
     "name": "stdout",
     "output_type": "stream",
     "text": [
      "T-Test Results : \n",
      "T-Statistics :  -4.512913234547576\n",
      "P-value 3.176506547469916e-05\n"
     ]
    }
   ],
   "source": [
    "print(\"T-Test Results : \")\n",
    "print(\"T-Statistics : \",t_statistic)\n",
    "print(\"P-value\", p_value)"
   ]
  },
  {
   "cell_type": "markdown",
   "id": "a28d2fc4",
   "metadata": {},
   "source": [
    "# Check if the p-value is less than alpha to determine significance"
   ]
  },
  {
   "cell_type": "code",
   "execution_count": 25,
   "id": "d25539bf",
   "metadata": {},
   "outputs": [
    {
     "name": "stdout",
     "output_type": "stream",
     "text": [
      "Reject the null hypothesis. There is a significant difference between the means of the two groups.\n"
     ]
    }
   ],
   "source": [
    "if p_value < alpha:\n",
    "    print(\"Reject the null hypothesis. There is a significant difference between the means of the two groups.\")\n",
    "else:\n",
    "    print(\"Fail to Reject the null hypothesis. There is no significant difference between the means of the two group.\")"
   ]
  },
  {
   "cell_type": "code",
   "execution_count": null,
   "id": "5bc56e93",
   "metadata": {},
   "outputs": [],
   "source": []
  }
 ],
 "metadata": {
  "kernelspec": {
   "display_name": "Python 3 (ipykernel)",
   "language": "python",
   "name": "python3"
  },
  "language_info": {
   "codemirror_mode": {
    "name": "ipython",
    "version": 3
   },
   "file_extension": ".py",
   "mimetype": "text/x-python",
   "name": "python",
   "nbconvert_exporter": "python",
   "pygments_lexer": "ipython3",
   "version": "3.11.4"
  }
 },
 "nbformat": 4,
 "nbformat_minor": 5
}
