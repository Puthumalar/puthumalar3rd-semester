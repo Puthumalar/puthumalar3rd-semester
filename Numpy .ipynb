{
 "cells": [
  {
   "cell_type": "markdown",
   "id": "079d4e5e",
   "metadata": {},
   "source": [
    "# Importing Required Libraries"
   ]
  },
  {
   "cell_type": "code",
   "execution_count": 1,
   "id": "3029a809",
   "metadata": {},
   "outputs": [],
   "source": [
    "import numpy as np"
   ]
  },
  {
   "cell_type": "markdown",
   "id": "dd327b3d",
   "metadata": {},
   "source": [
    "# Array Types"
   ]
  },
  {
   "cell_type": "raw",
   "id": "38ac6abb",
   "metadata": {},
   "source": [
    "Array Types : \n",
    "\n",
    "1.zeros array\n",
    "2.ones array\n",
    "3.empty array \n",
    "4.array for range"
   ]
  },
  {
   "cell_type": "code",
   "execution_count": null,
   "id": "746b86b4",
   "metadata": {},
   "outputs": [],
   "source": [
    "ar1 = np.array(6)"
   ]
  },
  {
   "cell_type": "code",
   "execution_count": null,
   "id": "3ba53760",
   "metadata": {},
   "outputs": [],
   "source": [
    "ar1"
   ]
  },
  {
   "cell_type": "code",
   "execution_count": null,
   "id": "e4cdd714",
   "metadata": {},
   "outputs": [],
   "source": [
    "type(ar1)"
   ]
  },
  {
   "cell_type": "code",
   "execution_count": null,
   "id": "1e1380f4",
   "metadata": {},
   "outputs": [],
   "source": [
    "ar2 = np.array([1,2,3])"
   ]
  },
  {
   "cell_type": "code",
   "execution_count": null,
   "id": "f177334c",
   "metadata": {},
   "outputs": [],
   "source": [
    "ar2"
   ]
  },
  {
   "cell_type": "code",
   "execution_count": null,
   "id": "cfabf989",
   "metadata": {},
   "outputs": [],
   "source": [
    "ar3 = np.array([[1,2,3],[1,2,3]])"
   ]
  },
  {
   "cell_type": "code",
   "execution_count": null,
   "id": "1308ecc0",
   "metadata": {},
   "outputs": [],
   "source": [
    "ar3"
   ]
  },
  {
   "cell_type": "code",
   "execution_count": null,
   "id": "4ed6d55d",
   "metadata": {},
   "outputs": [],
   "source": [
    "zero_array = np.zeros((3,3))"
   ]
  },
  {
   "cell_type": "code",
   "execution_count": null,
   "id": "093a4059",
   "metadata": {},
   "outputs": [],
   "source": [
    "zero_array"
   ]
  },
  {
   "cell_type": "code",
   "execution_count": null,
   "id": "bbaeba09",
   "metadata": {},
   "outputs": [],
   "source": [
    "ones_array = np.ones((3,4))"
   ]
  },
  {
   "cell_type": "code",
   "execution_count": null,
   "id": "b3f40442",
   "metadata": {},
   "outputs": [],
   "source": [
    "ones_array"
   ]
  },
  {
   "cell_type": "code",
   "execution_count": null,
   "id": "4d61ab88",
   "metadata": {},
   "outputs": [],
   "source": [
    "range_array = np.arange(1,11,2)"
   ]
  },
  {
   "cell_type": "code",
   "execution_count": null,
   "id": "3cb11095",
   "metadata": {},
   "outputs": [],
   "source": [
    "range_array"
   ]
  },
  {
   "cell_type": "code",
   "execution_count": null,
   "id": "436fb791",
   "metadata": {},
   "outputs": [],
   "source": [
    "array_2d = np.array([[1, 2, 3],\n",
    "                     [4, 5, 6],\n",
    "                     [7, 8, 9]])"
   ]
  },
  {
   "cell_type": "code",
   "execution_count": null,
   "id": "382e94e2",
   "metadata": {},
   "outputs": [],
   "source": [
    "transposed_array = np.transpose(array_2d)\n",
    "print(transposed_array)"
   ]
  },
  {
   "cell_type": "code",
   "execution_count": null,
   "id": "cd35ca4c",
   "metadata": {},
   "outputs": [],
   "source": [
    "arr = np.ravel(array_2d)"
   ]
  },
  {
   "cell_type": "code",
   "execution_count": null,
   "id": "51b7e352",
   "metadata": {},
   "outputs": [],
   "source": [
    "arr"
   ]
  },
  {
   "cell_type": "code",
   "execution_count": null,
   "id": "7ef6f977",
   "metadata": {},
   "outputs": [],
   "source": [
    "a1 = np.array([1,2])\n",
    "a2 = np.array([3,4])\n",
    "concatenated_array = np.concatenate((a1,a2))"
   ]
  },
  {
   "cell_type": "code",
   "execution_count": null,
   "id": "4d4f6682",
   "metadata": {},
   "outputs": [],
   "source": [
    "print(a1)\n",
    "print(a2)\n",
    "print(concatenated_array)"
   ]
  },
  {
   "cell_type": "code",
   "execution_count": null,
   "id": "e1d8deee",
   "metadata": {},
   "outputs": [],
   "source": [
    "hori = np.hstack((a1,a2))"
   ]
  },
  {
   "cell_type": "code",
   "execution_count": null,
   "id": "87903f6e",
   "metadata": {},
   "outputs": [],
   "source": [
    "hori"
   ]
  },
  {
   "cell_type": "code",
   "execution_count": null,
   "id": "c90eaaba",
   "metadata": {},
   "outputs": [],
   "source": [
    "verti = np.vstack((a1,a2))"
   ]
  },
  {
   "cell_type": "code",
   "execution_count": null,
   "id": "247b8b21",
   "metadata": {},
   "outputs": [],
   "source": [
    "verti"
   ]
  },
  {
   "cell_type": "code",
   "execution_count": null,
   "id": "88a23c25",
   "metadata": {},
   "outputs": [],
   "source": [
    "two_d_hori = np.hstack((array_2d))"
   ]
  },
  {
   "cell_type": "code",
   "execution_count": null,
   "id": "6cc1bbbd",
   "metadata": {},
   "outputs": [],
   "source": [
    "two_d_hori"
   ]
  },
  {
   "cell_type": "code",
   "execution_count": null,
   "id": "f207e2f9",
   "metadata": {},
   "outputs": [],
   "source": [
    "two_d_verti = np.vstack((array_2d))"
   ]
  },
  {
   "cell_type": "code",
   "execution_count": null,
   "id": "1637b93f",
   "metadata": {},
   "outputs": [],
   "source": [
    "two_d_verti"
   ]
  },
  {
   "cell_type": "code",
   "execution_count": null,
   "id": "abaa42d7",
   "metadata": {},
   "outputs": [],
   "source": [
    "matrics_1 = np.array([[1,2,3],[4,5,6],[7,8,8]])"
   ]
  },
  {
   "cell_type": "code",
   "execution_count": null,
   "id": "5e215b38",
   "metadata": {},
   "outputs": [],
   "source": [
    "matrics_1"
   ]
  },
  {
   "cell_type": "code",
   "execution_count": null,
   "id": "e26c9fda",
   "metadata": {},
   "outputs": [],
   "source": [
    "determinant_of_matrics_1 = np.linalg.det(matrics_1)"
   ]
  },
  {
   "cell_type": "code",
   "execution_count": null,
   "id": "87f2d85a",
   "metadata": {},
   "outputs": [],
   "source": [
    "determinant_of_matrics_1"
   ]
  },
  {
   "cell_type": "code",
   "execution_count": null,
   "id": "2f74f93b",
   "metadata": {},
   "outputs": [],
   "source": [
    "inverse_of_matrics_1 = np.linalg.inv(matrics_1)"
   ]
  },
  {
   "cell_type": "code",
   "execution_count": null,
   "id": "0650983c",
   "metadata": {
    "scrolled": true
   },
   "outputs": [],
   "source": [
    "inverse_of_matrics_1"
   ]
  },
  {
   "cell_type": "code",
   "execution_count": null,
   "id": "8994582e",
   "metadata": {},
   "outputs": [],
   "source": [
    "mat = np.array([[1,0,0,0],[0,0,0,6],[0,5,0,7],[0,0,0,1]])"
   ]
  },
  {
   "cell_type": "code",
   "execution_count": null,
   "id": "2a033f10",
   "metadata": {},
   "outputs": [],
   "source": [
    "mat"
   ]
  },
  {
   "cell_type": "code",
   "execution_count": null,
   "id": "42b13e78",
   "metadata": {},
   "outputs": [],
   "source": [
    "from scipy.sparse import csr_matrix"
   ]
  },
  {
   "cell_type": "code",
   "execution_count": null,
   "id": "3e860755",
   "metadata": {},
   "outputs": [],
   "source": [
    "sparse = csr_matrix(mat)"
   ]
  },
  {
   "cell_type": "code",
   "execution_count": null,
   "id": "e6db6b90",
   "metadata": {},
   "outputs": [],
   "source": [
    "sparse"
   ]
  },
  {
   "cell_type": "code",
   "execution_count": null,
   "id": "ac1e616d",
   "metadata": {
    "scrolled": true
   },
   "outputs": [],
   "source": [
    "print(sparse)"
   ]
  },
  {
   "cell_type": "code",
   "execution_count": null,
   "id": "bacb92a3",
   "metadata": {},
   "outputs": [],
   "source": [
    "pip install --upgrade numpy"
   ]
  },
  {
   "cell_type": "code",
   "execution_count": null,
   "id": "4673bbc0",
   "metadata": {},
   "outputs": [],
   "source": [
    "pip install --upgrade numpy --user"
   ]
  },
  {
   "cell_type": "code",
   "execution_count": 2,
   "id": "8b0f4faf",
   "metadata": {},
   "outputs": [
    {
     "data": {
      "text/plain": [
       "'2.0.1'"
      ]
     },
     "execution_count": 2,
     "metadata": {},
     "output_type": "execute_result"
    }
   ],
   "source": [
    "np.__version__"
   ]
  },
  {
   "cell_type": "code",
   "execution_count": null,
   "id": "683a555f",
   "metadata": {},
   "outputs": [],
   "source": []
  }
 ],
 "metadata": {
  "kernelspec": {
   "display_name": "Python 3 (ipykernel)",
   "language": "python",
   "name": "python3"
  },
  "language_info": {
   "codemirror_mode": {
    "name": "ipython",
    "version": 3
   },
   "file_extension": ".py",
   "mimetype": "text/x-python",
   "name": "python",
   "nbconvert_exporter": "python",
   "pygments_lexer": "ipython3",
   "version": "3.11.4"
  }
 },
 "nbformat": 4,
 "nbformat_minor": 5
}
